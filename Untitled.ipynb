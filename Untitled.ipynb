{
 "cells": [
  {
   "cell_type": "raw",
   "id": "697231a8-b2a4-4da0-a8a6-df17679c5d8e",
   "metadata": {},
   "source": []
  },
  {
   "cell_type": "code",
   "execution_count": null,
   "id": "80d2299a-bdff-491d-a7da-ebe61b257dd3",
   "metadata": {},
   "outputs": [],
   "source": []
  },
  {
   "cell_type": "code",
   "execution_count": 2,
   "id": "7cf57e22-abc2-4729-b2d4-1f2bd968616c",
   "metadata": {},
   "outputs": [
    {
     "name": "stdin",
     "output_type": "stream",
     "text": [
      "Enter your choice (rock, paper or scissors):  rock\n"
     ]
    },
    {
     "name": "stdout",
     "output_type": "stream",
     "text": [
      "You chose rock, Computer chose paper\n",
      "You lose! Paper covers Rock!\n"
     ]
    }
   ],
   "source": [
    "import random\n",
    "\n",
    "def get_choices():\n",
    "    player_choice = input('Enter your choice (rock, paper or scissors): ')\n",
    "    options = ['rock', 'paper', 'scissors']\n",
    "    computer_choice = random.choice(options)\n",
    "    choices = {'player': player_choice, 'computer': computer_choice}\n",
    "    return choices\n",
    "\n",
    "def check_win(player, computer):\n",
    "    print('You chose '+ player + ', Computer chose ' + computer)\n",
    "#   print(f'You chose {player} , Computer chose {computer}')    the same string as above, with 'f' string\n",
    "    if player == computer:\n",
    "        return 'It is a Tie!'\n",
    "    elif player == 'rock': \n",
    "        if computer == 'scissors':\n",
    "            return 'You win! Rock smashes Scissors!'\n",
    "        else:\n",
    "            return 'You lose! Paper covers Rock!'\n",
    "    elif player == 'paper': \n",
    "        if computer == 'rock':\n",
    "            return 'You win! Paper covers Rock!'\n",
    "        else:\n",
    "            return 'You lose! Scissors cut Paper!'\n",
    "    elif player == 'scissors': \n",
    "        if computer == 'paper':\n",
    "            return 'You win! Scissors cut Paper!!'\n",
    "        else:\n",
    "            return 'You lose! Rock smashes Scissors!'\n",
    "    else:\n",
    "        return 'Wrong value was added by the Player, please try again'\n",
    "\n",
    "choices = get_choices()\n",
    "result = check_win(choices['player'], choices['computer'])\n",
    "print(result)"
   ]
  },
  {
   "cell_type": "code",
   "execution_count": null,
   "id": "65e689e2-8d4a-46d8-8040-f8ea5c4aa62f",
   "metadata": {},
   "outputs": [],
   "source": []
  }
 ],
 "metadata": {
  "kernelspec": {
   "display_name": "Python 3 (ipykernel)",
   "language": "python",
   "name": "python3"
  },
  "language_info": {
   "codemirror_mode": {
    "name": "ipython",
    "version": 3
   },
   "file_extension": ".py",
   "mimetype": "text/x-python",
   "name": "python",
   "nbconvert_exporter": "python",
   "pygments_lexer": "ipython3",
   "version": "3.11.6"
  }
 },
 "nbformat": 4,
 "nbformat_minor": 5
}
